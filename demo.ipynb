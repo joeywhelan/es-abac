{
 "cells": [
  {
   "cell_type": "markdown",
   "id": "e93b0312",
   "metadata": {},
   "source": [
    "# ABAC on Elasticsearch"
   ]
  },
  {
   "cell_type": "markdown",
   "id": "670efd37",
   "metadata": {},
   "source": [
    "## Install Prerequisites"
   ]
  },
  {
   "cell_type": "code",
   "execution_count": null,
   "id": "8015aa5b",
   "metadata": {
    "vscode": {
     "languageId": "shellscript"
    }
   },
   "outputs": [],
   "source": [
    "! pip install -q -U -r requirements.txt"
   ]
  },
  {
   "cell_type": "markdown",
   "id": "6b9d5f86",
   "metadata": {},
   "source": [
    "## Create Deployment"
   ]
  },
  {
   "cell_type": "code",
   "execution_count": 37,
   "id": "cdc31929",
   "metadata": {},
   "outputs": [
    {
     "name": "stdout",
     "output_type": "stream",
     "text": [
      "Awaiting deployment build\n",
      "Elasticsearch status: initializing, Kibana status: initializing\n",
      "Elasticsearch status: initializing, Kibana status: initializing\n",
      "Elasticsearch status: started, Kibana status: initializing\n",
      "Elasticsearch status: started, Kibana status: started\n",
      "Deployment ready\n"
     ]
    }
   ],
   "source": [
    "import os\n",
    "from dotenv import load_dotenv\n",
    "import requests\n",
    "import time\n",
    "from elasticsearch import Elasticsearch\n",
    "\n",
    "load_dotenv(override=True)\n",
    "\n",
    "payload = {\n",
    "    \"name\": \"demo-deployment\",\n",
    "    \"region\": \"gcp-us-central1\"\n",
    "}\n",
    "\n",
    "headers = {\n",
    "    \"Authorization\": f\"ApiKey {os.getenv(\"ECH_API_KEY\")}\",\n",
    "    \"Content-Type\": \"application/json\"\n",
    "}\n",
    "\n",
    "response = requests.post(f\"{os.getenv(\"ECH_URL\")}?template_id=gcp-general-purpose\", headers=headers, json=payload)\n",
    "response.raise_for_status()\n",
    "DEPLOYMENT_ID = response.json()[\"id\"]\n",
    "CREDENTIALS = response.json()[\"resources\"][0][\"credentials\"]\n",
    "CLOUD_ID = response.json()[\"resources\"][0][\"cloud_id\"]\n",
    "\n",
    "print(\"Awaiting deployment build\")\n",
    "while True:\n",
    "    time.sleep(30)\n",
    "    response = requests.get(f\"{os.getenv(\"ECH_URL\")}/{DEPLOYMENT_ID}\", headers=headers)\n",
    "    response.raise_for_status()\n",
    "    es_status = response.json()[\"resources\"][\"elasticsearch\"][0][\"info\"][\"status\"]\n",
    "    kibana_status = response.json()[\"resources\"][\"kibana\"][0][\"info\"][\"status\"]\n",
    "    print(f\"Elasticsearch status: {es_status}, Kibana status: {kibana_status}\")\n",
    "    if es_status == \"started\" and kibana_status == \"started\":\n",
    "        break \n",
    "print(\"Deployment ready\")\n",
    "\n",
    "es = Elasticsearch(cloud_id=CLOUD_ID, basic_auth=(CREDENTIALS[\"username\"], CREDENTIALS[\"password\"]))"
   ]
  },
  {
   "cell_type": "markdown",
   "id": "60b1bd66",
   "metadata": {},
   "source": [
    "## Load Data"
   ]
  },
  {
   "cell_type": "code",
   "execution_count": 38,
   "id": "63b9fdd5",
   "metadata": {},
   "outputs": [
    {
     "name": "stdout",
     "output_type": "stream",
     "text": [
      "5 documents indexed\n"
     ]
    }
   ],
   "source": [
    "from elasticsearch.helpers import bulk\n",
    "\n",
    "INDEX_NAME = \"nuke_docs\"\n",
    "mappings = {\n",
    "    \"properties\": {\n",
    "        \"title\": {\n",
    "            \"type\": \"text\"\n",
    "        },\n",
    "        \"attributes\": {\n",
    "            \"type\": \"object\",\n",
    "            \"properties\": {\n",
    "                \"departments\": {\n",
    "                    \"type\": \"keyword\"\n",
    "                },\n",
    "                \"training\": {\n",
    "                    \"type\": \"keyword\"\n",
    "                },\n",
    "                \"min_training\": {\n",
    "                    \"type\": \"integer\"\n",
    "                }\n",
    "            }\n",
    "        }\n",
    "    }\n",
    "}\n",
    "\n",
    "es.options(ignore_status=[404]).indices.delete(index=INDEX_NAME)\n",
    "es.indices.create(index=INDEX_NAME, body={\"mappings\": mappings})\n",
    "\n",
    "def gen_data():\n",
    "    with open(\"assets/data.jsonl\", \"r\") as f:\n",
    "        for line in f:\n",
    "            yield line.strip()\n",
    "            \n",
    "result = bulk(client=es, index=INDEX_NAME, actions=gen_data())\n",
    "print(result[0], \"documents indexed\")"
   ]
  },
  {
   "cell_type": "markdown",
   "id": "631ed42a",
   "metadata": {},
   "source": [
    "## Create ABAC Role"
   ]
  },
  {
   "cell_type": "code",
   "execution_count": 39,
   "id": "8f1b8ce5",
   "metadata": {},
   "outputs": [
    {
     "data": {
      "text/plain": [
       "ObjectApiResponse({'role': {'created': True}})"
      ]
     },
     "execution_count": 39,
     "metadata": {},
     "output_type": "execute_result"
    }
   ],
   "source": [
    "es.security.put_role(name=\"abac_role\", body={\n",
    "    \"indices\": [\n",
    "        {\n",
    "            \"names\": [INDEX_NAME],\n",
    "            \"privileges\": [\"read\"],\n",
    "            \"query\": {\n",
    "                \"template\": {\n",
    "                    \"source\": \"{\\\"bool\\\": {\\\"filter\\\": [{\\\"terms_set\\\": {\\\"attributes.training\\\": {\\\"terms\\\": {{#toJson}}_user.metadata.attributes.training{{/toJson}},\\\"minimum_should_match_field\\\": \\\"attributes.min_training\\\"}}}, {\\\"terms\\\": {\\\"attributes.departments\\\": {{#toJson}}_user.metadata.attributes.departments{{/toJson}}}}]}}\"\n",
    "                }\n",
    "            \n",
    "            }\n",
    "        }]\n",
    "})"
   ]
  },
  {
   "cell_type": "markdown",
   "id": "be460c6d",
   "metadata": {},
   "source": [
    "## Create Users"
   ]
  },
  {
   "cell_type": "code",
   "execution_count": 40,
   "id": "ed732ada",
   "metadata": {},
   "outputs": [
    {
     "data": {
      "text/plain": [
       "ObjectApiResponse({'created': True})"
      ]
     },
     "execution_count": 40,
     "metadata": {},
     "output_type": "execute_result"
    }
   ],
   "source": [
    "import string\n",
    "import secrets\n",
    "def random_password(length=12):\n",
    "    alphabet = string.ascii_letters + string.digits + string.punctuation\n",
    "    return ''.join(secrets.choice(alphabet) for i in range(length))\n",
    "\n",
    "booger_creds = {\n",
    "    \"username\": \"Booger\",\n",
    "    \"password\": random_password()\n",
    "}\n",
    "fritz_creds = {\n",
    "    \"username\": \"Fritz\",\n",
    "    \"password\": random_password()\n",
    "}\n",
    "gork_creds = {\n",
    "    \"username\": \"Gork\",\n",
    "    \"password\": random_password()\n",
    "}\n",
    "\n",
    "es.security.put_user(\n",
    "    username=booger_creds[\"username\"],\n",
    "    password=booger_creds[\"password\"],\n",
    "    roles=[\"abac_role\"],\n",
    "    metadata={\n",
    "        \"attributes\": {\n",
    "            \"departments\": [\"Safety Oversight\"],\n",
    "            \"training\": [\"Radiation Safety\", \"Regulatory Compliance\"]\n",
    "        }\n",
    "    }\n",
    ")\n",
    "\n",
    "es.security.put_user(\n",
    "    username=fritz_creds[\"username\"],\n",
    "    password=fritz_creds[\"password\"],\n",
    "    roles=[\"abac_role\"],\n",
    "    metadata={\n",
    "        \"attributes\": {\n",
    "            \"departments\": [\"Reactor Operations\"],\n",
    "            \"training\": [\"Core Procedures\", \"Radiation Safety\"]\n",
    "        }\n",
    "    }\n",
    ")\n",
    "\n",
    "es.security.put_user(\n",
    "    username=gork_creds[\"username\"],\n",
    "    password=gork_creds[\"password\"],\n",
    "    roles=[\"abac_role\"],\n",
    "    metadata={\n",
    "        \"attributes\": {\n",
    "            \"departments\": [\"Nuclear Materials\"],\n",
    "            \"training\": [\"Fuel Handling\", \"Radiation Safety\"]\n",
    "        }\n",
    "    }\n",
    ")"
   ]
  },
  {
   "cell_type": "markdown",
   "id": "c0ef91a5",
   "metadata": {},
   "source": [
    "## Test Users"
   ]
  },
  {
   "cell_type": "code",
   "execution_count": 41,
   "id": "4a9612db",
   "metadata": {},
   "outputs": [
    {
     "name": "stdout",
     "output_type": "stream",
     "text": [
      "\n",
      "*** Booger's Docs ***\n",
      "[\n",
      "  {\n",
      "    \"title\": \"Radiation Safety Manual\"\n",
      "  }\n",
      "]\n",
      "\n",
      "*** Fritz's Docs ***\n",
      "[\n",
      "  {\n",
      "    \"title\": \"Reactor Startup Protocol\"\n",
      "  },\n",
      "  {\n",
      "    \"title\": \"Radiation Safety Manual\"\n",
      "  },\n",
      "  {\n",
      "    \"title\": \"Emergency Shutdown Procedures\"\n",
      "  }\n",
      "]\n",
      "\n",
      "*** Gork's Docs ***\n",
      "[\n",
      "  {\n",
      "    \"title\": \"Fuel Rod Handling Guidelines\"\n",
      "  },\n",
      "  {\n",
      "    \"title\": \"Radiation Safety Manual\"\n",
      "  },\n",
      "  {\n",
      "    \"title\": \"Waste Storage Protocol\"\n",
      "  }\n",
      "]\n"
     ]
    }
   ],
   "source": [
    "import json\n",
    "def search_with_user(client, index_name, creds, description):\n",
    "    query = {\"_source\":[\"title\"],\"query\": {\"match_all\": {}}}\n",
    "    response = client.options(basic_auth=(creds[\"username\"], creds[\"password\"])).search(index=index_name, body=query)\n",
    "    print(f\"\\n*** {description} ***\")\n",
    "    results = []\n",
    "    for hit in response['hits']['hits']:\n",
    "        results.append(hit['_source'])\n",
    "    print(json.dumps(results, indent=2))\n",
    "\n",
    "search_with_user(es, INDEX_NAME, booger_creds, \"Booger's Docs\")\n",
    "search_with_user(es, INDEX_NAME, fritz_creds, \"Fritz's Docs\")\n",
    "search_with_user(es, INDEX_NAME, gork_creds, \"Gork's Docs\")"
   ]
  },
  {
   "cell_type": "markdown",
   "id": "b41faeea",
   "metadata": {},
   "source": [
    "## Delete Deployment"
   ]
  },
  {
   "cell_type": "code",
   "execution_count": 42,
   "id": "38387d30",
   "metadata": {},
   "outputs": [
    {
     "name": "stdout",
     "output_type": "stream",
     "text": [
      "demo-deployment is shut down\n"
     ]
    }
   ],
   "source": [
    "headers = {\n",
    "    \"Authorization\": f\"ApiKey {os.getenv(\"ECH_API_KEY\")}\",\n",
    "    \"Content-Type\": \"application/json\"\n",
    "}\n",
    "response = requests.post(f\"{os.getenv(\"ECH_URL\")}/{DEPLOYMENT_ID}/_shutdown\", headers=headers)\n",
    "response.raise_for_status()\n",
    "print(f\"{response.json()['name']} is shut down\")"
   ]
  }
 ],
 "metadata": {
  "kernelspec": {
   "display_name": ".venv",
   "language": "python",
   "name": "python3"
  },
  "language_info": {
   "codemirror_mode": {
    "name": "ipython",
    "version": 3
   },
   "file_extension": ".py",
   "mimetype": "text/x-python",
   "name": "python",
   "nbconvert_exporter": "python",
   "pygments_lexer": "ipython3",
   "version": "3.12.3"
  }
 },
 "nbformat": 4,
 "nbformat_minor": 5
}
